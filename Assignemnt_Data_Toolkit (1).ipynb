{
  "nbformat": 4,
  "nbformat_minor": 0,
  "metadata": {
    "colab": {
      "provenance": []
    },
    "kernelspec": {
      "name": "python3",
      "display_name": "Python 3"
    },
    "language_info": {
      "name": "python"
    }
  },
  "cells": [
    {
      "cell_type": "markdown",
      "source": [
        "1. What is NumPy, and why is it widely used in Python?\n",
        "- NumPy is a Python library used to work with numbers and arrays.\n",
        "\n",
        "Why it’s used:\n",
        "\n",
        "It makes math faster and easier.\n",
        "\n",
        "It can handle big data easily.\n",
        "\n",
        "It is used in many data and AI projects."
      ],
      "metadata": {
        "id": "7q23vltS9TdE"
      }
    },
    {
      "cell_type": "markdown",
      "source": [
        "2. How does broadcasting work in NumPy?\n",
        "- Broadcasting in NumPy means doing math on arrays of different sizes.\n",
        "\n",
        "It automatically matches the smaller array with the bigger one so operations (like add or multiply) can happen easily.\n",
        "\n",
        "Example:\n",
        "If you add a number to an array, NumPy adds that number to each element of the array."
      ],
      "metadata": {
        "id": "HRfmnGMd9syl"
      }
    },
    {
      "cell_type": "markdown",
      "source": [
        "3. What is a Pandas DataFrame?\n",
        "- A Pandas DataFrame is like a table in Python — it has rows and columns.\n",
        "\n",
        "It is used to store, view, and manage data easily, just like an Excel sheet."
      ],
      "metadata": {
        "id": "HzSeVF6x9-Cc"
      }
    },
    {
      "cell_type": "markdown",
      "source": [
        "4.  Explain the use of the groupby() method in Pandas?\n",
        "- The groupby() method in Pandas is used to split data into groups based on one or more columns.\n",
        "\n",
        "It helps to analyze or summarize data — like finding the sum, average, or count for each group."
      ],
      "metadata": {
        "id": "4wcOFLdt-YtH"
      }
    },
    {
      "cell_type": "markdown",
      "source": [
        "5. Why is Seaborn preferred for statistical visualizations?\n",
        "- Seaborn is preferred because it makes beautiful and easy-to-read graphs.\n",
        "\n",
        "It helps in showing patterns and relations in data clearly and works well with Pandas DataFrames."
      ],
      "metadata": {
        "id": "71OLHHrW-sbw"
      }
    },
    {
      "cell_type": "markdown",
      "source": [
        "6. What are the differences between NumPy arrays and Python lists?\n",
        "- NumPy Arrays vs Python Lists:\n",
        "\n",
        "NumPy arrays are faster and use less memory.\n",
        "\n",
        "They allow math operations directly (like +, -, *).\n",
        "\n",
        "Python lists are slower and can hold different data types, but NumPy arrays usually hold one type of data."
      ],
      "metadata": {
        "id": "2loboZMF-62W"
      }
    },
    {
      "cell_type": "markdown",
      "source": [
        "7.  What is a heatmap, and when should it be used?\n",
        "- A heatmap is a color-based chart that shows data values using different colors.\n",
        "\n",
        "It is used to see patterns, relationships, or correlations in data — for example, to show how two variables are connected."
      ],
      "metadata": {
        "id": "lDlv8Evg_MFQ"
      }
    },
    {
      "cell_type": "markdown",
      "source": [
        "8. What does the term “vectorized operation” mean in NumPy?\n",
        "- A vectorized operation means doing math on whole arrays at once, instead of using loops.\n",
        "\n",
        "It makes calculations much faster and simpler in NumPy."
      ],
      "metadata": {
        "id": "cdHZQrxp_Ycb"
      }
    },
    {
      "cell_type": "markdown",
      "source": [
        "9.  How does Matplotlib differ from Plotly?\n",
        "- Matplotlib makes basic and static charts, good for simple data visuals.\n",
        "Plotly makes interactive charts, where you can zoom, hover, and explore data easily."
      ],
      "metadata": {
        "id": "xAFWm2gS_ltP"
      }
    },
    {
      "cell_type": "markdown",
      "source": [
        "10. What is the significance of hierarchical indexing in Pandas?\n",
        "- Hierarchical indexing means having more than one index level in a Pandas DataFrame.\n",
        "\n",
        "It helps to organize and analyze complex data easily, like working with data in multiple categories or groups."
      ],
      "metadata": {
        "id": "tsKiaVSI_xD_"
      }
    },
    {
      "cell_type": "markdown",
      "source": [
        "11. What is the role of Seaborn’s pairplot() function?\n",
        "- The pairplot() function in Seaborn shows relationships between all columns in a dataset.\n",
        "\n",
        "It makes multiple scatter plots and helps to see patterns or correlations between variables easily."
      ],
      "metadata": {
        "id": "s6ARtha6AomW"
      }
    },
    {
      "cell_type": "markdown",
      "source": [
        "12. What is the purpose of the describe() function in Pandas?\n",
        "- The describe() function in Pandas gives a quick summary of your data.\n",
        "\n",
        "It shows details like count, mean, minimum, maximum, and standard deviation for each column.\n"
      ],
      "metadata": {
        "id": "E5O6yK3dBPqe"
      }
    },
    {
      "cell_type": "markdown",
      "source": [
        "13. Why is handling missing data important in Pandas?\n",
        "- Handling missing data is important because it can affect analysis and results.\n",
        "\n",
        "If not fixed, it may lead to wrong conclusions — so we fill, replace, or remove missing values to keep data accurate and clean."
      ],
      "metadata": {
        "id": "raiwSkGIBmN7"
      }
    },
    {
      "cell_type": "markdown",
      "source": [
        "14. What are the benefits of using Plotly for data visualization?\n",
        "-\n",
        "Plotly is great for making interactive and attractive charts.\n",
        "\n",
        "Benefits:\n",
        "\n",
        "You can zoom, hover, and explore data easily.\n",
        "\n",
        "It supports many chart types (line, bar, pie, 3D, etc.).\n",
        "\n",
        "Works well for dashboards and web apps."
      ],
      "metadata": {
        "id": "A3F_UYOEB0yr"
      }
    },
    {
      "cell_type": "markdown",
      "source": [
        "15. How does NumPy handle multidimensional arrays?\n",
        "- NumPy handles multidimensional arrays using its special object called ndarray.\n",
        "\n",
        "It lets you store and work with data in 2D, 3D, or more — like rows, columns, and layers — and do fast math operations on them."
      ],
      "metadata": {
        "id": "7UqET9ROCDF8"
      }
    },
    {
      "cell_type": "markdown",
      "source": [
        "16. What is the role of Bokeh in data visualization?\n",
        "- Bokeh is a Python library used to make interactive and web-based charts.\n",
        "\n",
        "It helps create dynamic visuals like zoomable graphs, dashboards, and live data plots for web applications."
      ],
      "metadata": {
        "id": "TlCKi3RXCZNT"
      }
    },
    {
      "cell_type": "markdown",
      "source": [
        "17. Explain the difference between apply() and map() in Pandas?\n",
        "- map() is used to change or modify each value in a single column or Series.\n",
        "- apply() can work on rows or columns of a DataFrame and apply a custom function to them.\n"
      ],
      "metadata": {
        "id": "6rtZ8Te3CrHm"
      }
    },
    {
      "cell_type": "markdown",
      "source": [
        "18. What are some advanced features of NumPy?\n",
        "- Some advanced features of NumPy are:\n",
        "\n",
        "Broadcasting – do math on arrays of different sizes.\n",
        "\n",
        "Vectorization – fast operations without loops.\n",
        "\n",
        "Linear algebra – matrix multiplication, inverse, etc.\n",
        "\n",
        "Random number generation – for simulations or testing.\n",
        "\n",
        "Fourier transforms – for signal or image processing."
      ],
      "metadata": {
        "id": "ZAMyIe7IDhiQ"
      }
    },
    {
      "cell_type": "markdown",
      "source": [
        "19. How does Pandas simplify time series analysis?\n",
        "- Pandas simplifies every step of time series analysis — from parsing and indexing dates to resampling, rolling statistics, and visualization — all in a few lines of code.\n"
      ],
      "metadata": {
        "id": "0en4cBNPDw7T"
      }
    },
    {
      "cell_type": "markdown",
      "source": [
        "20. What is the role of a pivot table in Pandas?\n",
        "- A pivot table in Pandas is used to summarize and analyze data by grouping and aggregating it based on specific columns, similar to Excel pivot tables."
      ],
      "metadata": {
        "id": "frLJ2xaUHp7I"
      }
    },
    {
      "cell_type": "markdown",
      "source": [
        "21. Why is NumPy’s array slicing faster than Python’s list slicing?\n",
        "- NumPy’s array slicing is faster because it doesn’t copy data — it just creates a view of the original array in memory, while Python lists create a new copy of the data when sliced."
      ],
      "metadata": {
        "id": "y4nNaY8gIy69"
      }
    },
    {
      "cell_type": "markdown",
      "source": [
        "22. What are some common use cases for Seaborn?\n",
        "- Common use cases for Seaborn:\n",
        "\n",
        "Visualizing data distributions – using histograms, KDE plots, or box plots.\n",
        "\n",
        "Showing relationships – with scatter plots and line plots.\n",
        "\n",
        "Comparing categories – using bar plots and count plots.\n",
        "\n",
        "Creating heatmaps – for correlation or matrix data.\n",
        "\n",
        "Visualizing statistical summaries – like regression lines or confidence intervals.\n",
        "\n",
        "Quickly exploring datasets – with built-in themes and color palettes."
      ],
      "metadata": {
        "id": "B9Jzib5NJJdR"
      }
    },
    {
      "cell_type": "markdown",
      "source": [
        "**Practical Questions**"
      ],
      "metadata": {
        "id": "tpqHvKOFJhsP"
      }
    },
    {
      "cell_type": "markdown",
      "source": [
        "1. A How do you create a 2D NumPy array and calculate the sum of each row?"
      ],
      "metadata": {
        "id": "HYAWhz77Jr_0"
      }
    },
    {
      "cell_type": "code",
      "source": [
        "1. import numpy as np\n",
        "\n",
        "# Create a 2D NumPy array\n",
        "array = np.array([\n",
        "    [2, 4, 6],\n",
        "    [1, 3, 5],\n",
        "    [7, 8, 9]\n",
        "])\n",
        "\n",
        "# Calculate the sum of each row\n",
        "row_sum = array.sum(axis=1)\n",
        "\n",
        "# Print the result\n",
        "print(\"Sum of each row:\", row_sum)\n"
      ],
      "metadata": {
        "colab": {
          "base_uri": "https://localhost:8080/"
        },
        "id": "mt1Z-9EpLVn9",
        "outputId": "e16dc5a5-c272-49b9-b0a4-3741db033a5e"
      },
      "execution_count": 3,
      "outputs": [
        {
          "output_type": "stream",
          "name": "stdout",
          "text": [
            "Sum of each row: [12  9 24]\n"
          ]
        }
      ]
    },
    {
      "cell_type": "markdown",
      "source": [
        "2.  Write a Pandas script to find the mean of a specific column in a DataFrame?"
      ],
      "metadata": {
        "id": "CGhklAnOLuSz"
      }
    },
    {
      "cell_type": "code",
      "source": [
        "2.\n",
        "# mean_test.py\n",
        "try:\n",
        "    import pandas as pd\n",
        "except ImportError:\n",
        "    raise SystemExit(\"pandas is not installed. Install it with: pip install pandas\")\n",
        "\n",
        "# sample DataFrame\n",
        "df = pd.DataFrame({\n",
        "    'Name': ['A', 'B', 'C', 'D'],\n",
        "    'Marks': [85, 90, 78, 92]\n",
        "})\n",
        "\n",
        "# compute mean of the 'Marks' column\n",
        "mean_value = df['Marks'].mean()\n",
        "\n",
        "print(\"Mean of Marks column:\", mean_value)\n"
      ],
      "metadata": {
        "colab": {
          "base_uri": "https://localhost:8080/"
        },
        "id": "x3H1oxgqNmq4",
        "outputId": "d9662122-3926-457d-e362-e72356c1fa4f"
      },
      "execution_count": 5,
      "outputs": [
        {
          "output_type": "stream",
          "name": "stdout",
          "text": [
            "Mean of Marks column: 86.25\n"
          ]
        }
      ]
    },
    {
      "cell_type": "markdown",
      "source": [
        "3.  Create a scatter plot using Matplotli?"
      ],
      "metadata": {
        "id": "Kg-7yK22N3m8"
      }
    },
    {
      "cell_type": "code",
      "source": [
        "3.\n",
        "import matplotlib.pyplot as plt\n",
        "\n",
        "# Sample data\n",
        "x = [10, 20, 30, 40, 50]\n",
        "y = [8, 15, 25, 35, 45]\n",
        "\n",
        "# Create a scatter plot\n",
        "plt.scatter(x, y, color='blue', marker='o')\n",
        "\n",
        "# Add labels and title\n",
        "plt.xlabel(\"X-Axis\")\n",
        "plt.ylabel(\"Y-Axis\")\n",
        "plt.title(\"Simple Scatter Plot\")\n",
        "\n",
        "# Show the plot\n",
        "plt.show()\n"
      ],
      "metadata": {
        "colab": {
          "base_uri": "https://localhost:8080/",
          "height": 472
        },
        "id": "nwQxEBItOpWp",
        "outputId": "e950577c-33c1-4b2e-faaf-cc6544220d55"
      },
      "execution_count": 6,
      "outputs": [
        {
          "output_type": "display_data",
          "data": {
            "text/plain": [
              "<Figure size 640x480 with 1 Axes>"
            ],
            "image/png": "[encoded data removed]"
          },
          "metadata": {}
        }
      ]
    },
    {
      "cell_type": "markdown",
      "source": [
        "4. How do you calculate the correlation matrix using Seaborn and visualize it with a heatmap?"
      ],
      "metadata": {
        "id": "FAUzpf9OPBtL"
      }
    },
    {
      "cell_type": "code",
      "source": [
        "4.\n",
        "import pandas as pd\n",
        "import seaborn as sns\n",
        "import matplotlib.pyplot as plt\n",
        "\n",
        "# Create a sample DataFrame\n",
        "data = {\n",
        "    'Math': [85, 90, 78, 92, 88],\n",
        "    'Science': [80, 85, 75, 89, 83],\n",
        "    'English': [78, 82, 74, 88, 80]\n",
        "}\n",
        "\n",
        "df = pd.DataFrame(data)\n",
        "\n",
        "# Calculate the correlation matrix\n",
        "corr = df.corr()\n",
        "\n",
        "# Visualize it using a heatmap\n",
        "sns.heatmap(corr, annot=True, cmap='coolwarm')\n",
        "\n",
        "# Add title\n",
        "plt.title(\"Correlation Matrix Heatmap\")\n",
        "plt.show()\n"
      ],
      "metadata": {
        "colab": {
          "base_uri": "https://localhost:8080/",
          "height": 452
        },
        "id": "Ws0HcaexPG4K",
        "outputId": "1443ef14-6313-4cfd-80a5-b154dbdf6397"
      },
      "execution_count": 7,
      "outputs": [
        {
          "output_type": "display_data",
          "data": {
            "text/plain": [
              "<Figure size 640x480 with 2 Axes>"
            ],
            "image/png": "[encoded data removed]"
          },
          "metadata": {}
        }
      ]
    },
    {
      "cell_type": "markdown",
      "source": [
        "5. Generate a bar plot using Plotly?"
      ],
      "metadata": {
        "id": "raHwgKscPXcx"
      }
    },
    {
      "cell_type": "code",
      "source": [
        "5.\n",
        "import plotly.express as px\n",
        "\n",
        "# Sample data\n",
        "data = {\n",
        "    'Fruits': ['Apples', 'Bananas', 'Oranges', 'Grapes', 'Mangoes'],\n",
        "    'Sales': [150, 200, 180, 120, 250]\n",
        "}\n",
        "\n",
        "# Create a bar plot\n",
        "fig = px.bar(data, x='Fruits', y='Sales', title='Fruit Sales Chart', color='Fruits')\n",
        "\n",
        "# Show the plot\n",
        "fig.show()\n"
      ],
      "metadata": {
        "colab": {
          "base_uri": "https://localhost:8080/",
          "height": 542
        },
        "id": "7zjuSEY8PoDP",
        "outputId": "afb19ab5-df2c-47c2-cd0e-3410c6298e25"
      },
      "execution_count": 8,
      "outputs": [
        {
          "output_type": "display_data",
          "data": {
            "text/html": [
              "<html>\n",
              "<head><meta charset=\"utf-8\" /></head>\n",
              "<body>\n",
              "    <div>            <script src=\"https://cdnjs.cloudflare.com/ajax/libs/mathjax/2.7.5/MathJax.js?config=TeX-AMS-MML_SVG\"></script><script type=\"text/javascript\">if (window.MathJax && window.MathJax.Hub && window.MathJax.Hub.Config) {window.MathJax.Hub.Config({SVG: {font: \"STIX-Web\"}});}</script>                <script type=\"text/javascript\">window.PlotlyConfig = {MathJaxConfig: 'local'};</script>\n",
              "        <script charset=\"utf-8\" src=\"https://cdn.plot.ly/plotly-2.35.2.min.js\"></script>                <div id=\"f4ed75e8-2d6d-40ea-8a2c-8030ea7c8be5\" class=\"plotly-graph-div\" style=\"height:525px; width:100%;\"></div>            <script type=\"text/javascript\">                                    window.PLOTLYENV=window.PLOTLYENV || {};                                    if (document.getElementById(\"f4ed75e8-2d6d-40ea-8a2c-8030ea7c8be5\")) {                    Plotly.newPlot(                        \"f4ed75e8-2d6d-40ea-8a2c-8030ea7c8be5\",                        [{\"alignmentgroup\":\"True\",\"hovertemplate\":\"Fruits=%{x}\\u003cbr\\u003eSales=%{y}\\u003cextra\\u003e\\u003c\\u002fextra\\u003e\",\"legendgroup\":\"Apples\",\"marker\":{\"color\":\"#636efa\",\"pattern\":{\"shape\":\"\"}},\"name\":\"Apples\",\"offsetgroup\":\"Apples\",\"orientation\":\"v\",\"showlegend\":true,\"textposition\":\"auto\",\"x\":[\"Apples\"],\"xaxis\":\"x\",\"y\":[150],\"yaxis\":\"y\",\"type\":\"bar\"},{\"alignmentgroup\":\"True\",\"hovertemplate\":\"Fruits=%{x}\\u003cbr\\u003eSales=%{y}\\u003cextra\\u003e\\u003c\\u002fextra\\u003e\",\"legendgroup\":\"Bananas\",\"marker\":{\"color\":\"#EF553B\",\"pattern\":{\"shape\":\"\"}},\"name\":\"Bananas\",\"offsetgroup\":\"Bananas\",\"orientation\":\"v\",\"showlegend\":true,\"textposition\":\"auto\",\"x\":[\"Bananas\"],\"xaxis\":\"x\",\"y\":[200],\"yaxis\":\"y\",\"type\":\"bar\"},{\"alignmentgroup\":\"True\",\"hovertemplate\":\"Fruits=%{x}\\u003cbr\\u003eSales=%{y}\\u003cextra\\u003e\\u003c\\u002fextra\\u003e\",\"legendgroup\":\"Oranges\",\"marker\":{\"color\":\"#00cc96\",\"pattern\":{\"shape\":\"\"}},\"name\":\"Oranges\",\"offsetgroup\":\"Oranges\",\"orientation\":\"v\",\"showlegend\":true,\"textposition\":\"auto\",\"x\":[\"Oranges\"],\"xaxis\":\"x\",\"y\":[180],\"yaxis\":\"y\",\"type\":\"bar\"},{\"alignmentgroup\":\"True\",\"hovertemplate\":\"Fruits=%{x}\\u003cbr\\u003eSales=%{y}\\u003cextra\\u003e\\u003c\\u002fextra\\u003e\",\"legendgroup\":\"Grapes\",\"marker\":{\"color\":\"#ab63fa\",\"pattern\":{\"shape\":\"\"}},\"name\":\"Grapes\",\"offsetgroup\":\"Grapes\",\"orientation\":\"v\",\"showlegend\":true,\"textposition\":\"auto\",\"x\":[\"Grapes\"],\"xaxis\":\"x\",\"y\":[120],\"yaxis\":\"y\",\"type\":\"bar\"},{\"alignmentgroup\":\"True\",\"hovertemplate\":\"Fruits=%{x}\\u003cbr\\u003eSales=%{y}\\u003cextra\\u003e\\u003c\\u002fextra\\u003e\",\"legendgroup\":\"Mangoes\",\"marker\":{\"color\":\"#FFA15A\",\"pattern\":{\"shape\":\"\"}},\"name\":\"Mangoes\",\"offsetgroup\":\"Mangoes\",\"orientation\":\"v\",\"showlegend\":true,\"textposition\":\"auto\",\"x\":[\"Mangoes\"],\"xaxis\":\"x\",\"y\":[250],\"yaxis\":\"y\",\"type\":\"bar\"}],                        {\"template\":{\"data\":{\"histogram2dcontour\":[{\"type\":\"histogram2dcontour\",\"colorbar\":{\"outlinewidth\":0,\"ticks\":\"\"},\"colorscale\":[[0.0,\"#0d0887\"],[0.1111111111111111,\"#46039f\"],[0.2222222222222222,\"#7201a8\"],[0.3333333333333333,\"#9c179e\"],[0.4444444444444444,\"#bd3786\"],[0.5555555555555556,\"#d8576b\"],[0.6666666666666666,\"#ed7953\"],[0.7777777777777778,\"#fb9f3a\"],[0.8888888888888888,\"#fdca26\"],[1.0,\"#f0f921\"]]}],\"choropleth\":[{\"type\":\"choropleth\",\"colorbar\":{\"outlinewidth\":0,\"ticks\":\"\"}}],\"histogram2d\":[{\"type\":\"histogram2d\",\"colorbar\":{\"outlinewidth\":0,\"ticks\":\"\"},\"colorscale\":[[0.0,\"#0d0887\"],[0.1111111111111111,\"#46039f\"],[0.2222222222222222,\"#7201a8\"],[0.3333333333333333,\"#9c179e\"],[0.4444444444444444,\"#bd3786\"],[0.5555555555555556,\"#d8576b\"],[0.6666666666666666,\"#ed7953\"],[0.7777777777777778,\"#fb9f3a\"],[0.8888888888888888,\"#fdca26\"],[1.0,\"#f0f921\"]]}],\"heatmap\":[{\"type\":\"heatmap\",\"colorbar\":{\"outlinewidth\":0,\"ticks\":\"\"},\"colorscale\":[[0.0,\"#0d0887\"],[0.1111111111111111,\"#46039f\"],[0.2222222222222222,\"#7201a8\"],[0.3333333333333333,\"#9c179e\"],[0.4444444444444444,\"#bd3786\"],[0.5555555555555556,\"#d8576b\"],[0.6666666666666666,\"#ed7953\"],[0.7777777777777778,\"#fb9f3a\"],[0.8888888888888888,\"#fdca26\"],[1.0,\"#f0f921\"]]}],\"heatmapgl\":[{\"type\":\"heatmapgl\",\"colorbar\":{\"outlinewidth\":0,\"ticks\":\"\"},\"colorscale\":[[0.0,\"#0d0887\"],[0.1111111111111111,\"#46039f\"],[0.2222222222222222,\"#7201a8\"],[0.3333333333333333,\"#9c179e\"],[0.4444444444444444,\"#bd3786\"],[0.5555555555555556,\"#d8576b\"],[0.6666666666666666,\"#ed7953\"],[0.7777777777777778,\"#fb9f3a\"],[0.8888888888888888,\"#fdca26\"],[1.0,\"#f0f921\"]]}],\"contourcarpet\":[{\"type\":\"contourcarpet\",\"colorbar\":{\"outlinewidth\":0,\"ticks\":\"\"}}],\"contour\":[{\"type\":\"contour\",\"colorbar\":{\"outlinewidth\":0,\"ticks\":\"\"},\"colorscale\":[[0.0,\"#0d0887\"],[0.1111111111111111,\"#46039f\"],[0.2222222222222222,\"#7201a8\"],[0.3333333333333333,\"#9c179e\"],[0.4444444444444444,\"#bd3786\"],[0.5555555555555556,\"#d8576b\"],[0.6666666666666666,\"#ed7953\"],[0.7777777777777778,\"#fb9f3a\"],[0.8888888888888888,\"#fdca26\"],[1.0,\"#f0f921\"]]}],\"surface\":[{\"type\":\"surface\",\"colorbar\":{\"outlinewidth\":0,\"ticks\":\"\"},\"colorscale\":[[0.0,\"#0d0887\"],[0.1111111111111111,\"#46039f\"],[0.2222222222222222,\"#7201a8\"],[0.3333333333333333,\"#9c179e\"],[0.4444444444444444,\"#bd3786\"],[0.5555555555555556,\"#d8576b\"],[0.6666666666666666,\"#ed7953\"],[0.7777777777777778,\"#fb9f3a\"],[0.8888888888888888,\"#fdca26\"],[1.0,\"#f0f921\"]]}],\"mesh3d\":[{\"type\":\"mesh3d\",\"colorbar\":{\"outlinewidth\":0,\"ticks\":\"\"}}],\"scatter\":[{\"fillpattern\":{\"fillmode\":\"overlay\",\"size\":10,\"solidity\":0.2},\"type\":\"scatter\"}],\"parcoords\":[{\"type\":\"parcoords\",\"line\":{\"colorbar\":{\"outlinewidth\":0,\"ticks\":\"\"}}}],\"scatterpolargl\":[{\"type\":\"scatterpolargl\",\"marker\":{\"colorbar\":{\"outlinewidth\":0,\"ticks\":\"\"}}}],\"bar\":[{\"error_x\":{\"color\":\"#2a3f5f\"},\"error_y\":{\"color\":\"#2a3f5f\"},\"marker\":{\"line\":{\"color\":\"#E5ECF6\",\"width\":0.5},\"pattern\":{\"fillmode\":\"overlay\",\"size\":10,\"solidity\":0.2}},\"type\":\"bar\"}],\"scattergeo\":[{\"type\":\"scattergeo\",\"marker\":{\"colorbar\":{\"outlinewidth\":0,\"ticks\":\"\"}}}],\"scatterpolar\":[{\"type\":\"scatterpolar\",\"marker\":{\"colorbar\":{\"outlinewidth\":0,\"ticks\":\"\"}}}],\"histogram\":[{\"marker\":{\"pattern\":{\"fillmode\":\"overlay\",\"size\":10,\"solidity\":0.2}},\"type\":\"histogram\"}],\"scattergl\":[{\"type\":\"scattergl\",\"marker\":{\"colorbar\":{\"outlinewidth\":0,\"ticks\":\"\"}}}],\"scatter3d\":[{\"type\":\"scatter3d\",\"line\":{\"colorbar\":{\"outlinewidth\":0,\"ticks\":\"\"}},\"marker\":{\"colorbar\":{\"outlinewidth\":0,\"ticks\":\"\"}}}],\"scattermapbox\":[{\"type\":\"scattermapbox\",\"marker\":{\"colorbar\":{\"outlinewidth\":0,\"ticks\":\"\"}}}],\"scatterternary\":[{\"type\":\"scatterternary\",\"marker\":{\"colorbar\":{\"outlinewidth\":0,\"ticks\":\"\"}}}],\"scattercarpet\":[{\"type\":\"scattercarpet\",\"marker\":{\"colorbar\":{\"outlinewidth\":0,\"ticks\":\"\"}}}],\"carpet\":[{\"aaxis\":{\"endlinecolor\":\"#2a3f5f\",\"gridcolor\":\"white\",\"linecolor\":\"white\",\"minorgridcolor\":\"white\",\"startlinecolor\":\"#2a3f5f\"},\"baxis\":{\"endlinecolor\":\"#2a3f5f\",\"gridcolor\":\"white\",\"linecolor\":\"white\",\"minorgridcolor\":\"white\",\"startlinecolor\":\"#2a3f5f\"},\"type\":\"carpet\"}],\"table\":[{\"cells\":{\"fill\":{\"color\":\"#EBF0F8\"},\"line\":{\"color\":\"white\"}},\"header\":{\"fill\":{\"color\":\"#C8D4E3\"},\"line\":{\"color\":\"white\"}},\"type\":\"table\"}],\"barpolar\":[{\"marker\":{\"line\":{\"color\":\"#E5ECF6\",\"width\":0.5},\"pattern\":{\"fillmode\":\"overlay\",\"size\":10,\"solidity\":0.2}},\"type\":\"barpolar\"}],\"pie\":[{\"automargin\":true,\"type\":\"pie\"}]},\"layout\":{\"autotypenumbers\":\"strict\",\"colorway\":[\"#636efa\",\"#EF553B\",\"#00cc96\",\"#ab63fa\",\"#FFA15A\",\"#19d3f3\",\"#FF6692\",\"#B6E880\",\"#FF97FF\",\"#FECB52\"],\"font\":{\"color\":\"#2a3f5f\"},\"hovermode\":\"closest\",\"hoverlabel\":{\"align\":\"left\"},\"paper_bgcolor\":\"white\",\"plot_bgcolor\":\"#E5ECF6\",\"polar\":{\"bgcolor\":\"#E5ECF6\",\"angularaxis\":{\"gridcolor\":\"white\",\"linecolor\":\"white\",\"ticks\":\"\"},\"radialaxis\":{\"gridcolor\":\"white\",\"linecolor\":\"white\",\"ticks\":\"\"}},\"ternary\":{\"bgcolor\":\"#E5ECF6\",\"aaxis\":{\"gridcolor\":\"white\",\"linecolor\":\"white\",\"ticks\":\"\"},\"baxis\":{\"gridcolor\":\"white\",\"linecolor\":\"white\",\"ticks\":\"\"},\"caxis\":{\"gridcolor\":\"white\",\"linecolor\":\"white\",\"ticks\":\"\"}},\"coloraxis\":{\"colorbar\":{\"outlinewidth\":0,\"ticks\":\"\"}},\"colorscale\":{\"sequential\":[[0.0,\"#0d0887\"],[0.1111111111111111,\"#46039f\"],[0.2222222222222222,\"#7201a8\"],[0.3333333333333333,\"#9c179e\"],[0.4444444444444444,\"#bd3786\"],[0.5555555555555556,\"#d8576b\"],[0.6666666666666666,\"#ed7953\"],[0.7777777777777778,\"#fb9f3a\"],[0.8888888888888888,\"#fdca26\"],[1.0,\"#f0f921\"]],\"sequentialminus\":[[0.0,\"#0d0887\"],[0.1111111111111111,\"#46039f\"],[0.2222222222222222,\"#7201a8\"],[0.3333333333333333,\"#9c179e\"],[0.4444444444444444,\"#bd3786\"],[0.5555555555555556,\"#d8576b\"],[0.6666666666666666,\"#ed7953\"],[0.7777777777777778,\"#fb9f3a\"],[0.8888888888888888,\"#fdca26\"],[1.0,\"#f0f921\"]],\"diverging\":[[0,\"#8e0152\"],[0.1,\"#c51b7d\"],[0.2,\"#de77ae\"],[0.3,\"#f1b6da\"],[0.4,\"#fde0ef\"],[0.5,\"#f7f7f7\"],[0.6,\"#e6f5d0\"],[0.7,\"#b8e186\"],[0.8,\"#7fbc41\"],[0.9,\"#4d9221\"],[1,\"#276419\"]]},\"xaxis\":{\"gridcolor\":\"white\",\"linecolor\":\"white\",\"ticks\":\"\",\"title\":{\"standoff\":15},\"zerolinecolor\":\"white\",\"automargin\":true,\"zerolinewidth\":2},\"yaxis\":{\"gridcolor\":\"white\",\"linecolor\":\"white\",\"ticks\":\"\",\"title\":{\"standoff\":15},\"zerolinecolor\":\"white\",\"automargin\":true,\"zerolinewidth\":2},\"scene\":{\"xaxis\":{\"backgroundcolor\":\"#E5ECF6\",\"gridcolor\":\"white\",\"linecolor\":\"white\",\"showbackground\":true,\"ticks\":\"\",\"zerolinecolor\":\"white\",\"gridwidth\":2},\"yaxis\":{\"backgroundcolor\":\"#E5ECF6\",\"gridcolor\":\"white\",\"linecolor\":\"white\",\"showbackground\":true,\"ticks\":\"\",\"zerolinecolor\":\"white\",\"gridwidth\":2},\"zaxis\":{\"backgroundcolor\":\"#E5ECF6\",\"gridcolor\":\"white\",\"linecolor\":\"white\",\"showbackground\":true,\"ticks\":\"\",\"zerolinecolor\":\"white\",\"gridwidth\":2}},\"shapedefaults\":{\"line\":{\"color\":\"#2a3f5f\"}},\"annotationdefaults\":{\"arrowcolor\":\"#2a3f5f\",\"arrowhead\":0,\"arrowwidth\":1},\"geo\":{\"bgcolor\":\"white\",\"landcolor\":\"#E5ECF6\",\"subunitcolor\":\"white\",\"showland\":true,\"showlakes\":true,\"lakecolor\":\"white\"},\"title\":{\"x\":0.05},\"mapbox\":{\"style\":\"light\"}}},\"xaxis\":{\"anchor\":\"y\",\"domain\":[0.0,1.0],\"title\":{\"text\":\"Fruits\"},\"categoryorder\":\"array\",\"categoryarray\":[\"Apples\",\"Bananas\",\"Oranges\",\"Grapes\",\"Mangoes\"]},\"yaxis\":{\"anchor\":\"x\",\"domain\":[0.0,1.0],\"title\":{\"text\":\"Sales\"}},\"legend\":{\"title\":{\"text\":\"Fruits\"},\"tracegroupgap\":0},\"title\":{\"text\":\"Fruit Sales Chart\"},\"barmode\":\"relative\"},                        {\"responsive\": true}                    ).then(function(){\n",
              "                            \n",
              "var gd = document.getElementById('f4ed75e8-2d6d-40ea-8a2c-8030ea7c8be5');\n",
              "var x = new MutationObserver(function (mutations, observer) {{\n",
              "        var display = window.getComputedStyle(gd).display;\n",
              "        if (!display || display === 'none') {{\n",
              "            console.log([gd, 'removed!']);\n",
              "            Plotly.purge(gd);\n",
              "            observer.disconnect();\n",
              "        }}\n",
              "}});\n",
              "\n",
              "// Listen for the removal of the full notebook cells\n",
              "var notebookContainer = gd.closest('#notebook-container');\n",
              "if (notebookContainer) {{\n",
              "    x.observe(notebookContainer, {childList: true});\n",
              "}}\n",
              "\n",
              "// Listen for the clearing of the current output cell\n",
              "var outputEl = gd.closest('.output');\n",
              "if (outputEl) {{\n",
              "    x.observe(outputEl, {childList: true});\n",
              "}}\n",
              "\n",
              "                        })                };                            </script>        </div>\n",
              "</body>\n",
              "</html>"
            ]
          },
          "metadata": {}
        }
      ]
    },
    {
      "cell_type": "markdown",
      "source": [
        "6. Create a DataFrame and add a new column based on an existing column?"
      ],
      "metadata": {
        "id": "2aD_e-7vPyRX"
      }
    },
    {
      "cell_type": "code",
      "source": [
        "6.\n",
        "import pandas as pd\n",
        "\n",
        "# Create a sample DataFrame\n",
        "data = {\n",
        "    'Name': ['A', 'B', 'C', 'D'],\n",
        "    'Marks': [80, 90, 75, 85]\n",
        "}\n",
        "\n",
        "df = pd.DataFrame(data)\n",
        "\n",
        "# Add a new column 'Grade' based on 'Marks'\n",
        "df['Grade'] = ['A' if m >= 85 else 'B' for m in df['Marks']]\n",
        "\n",
        "# Display the updated DataFrame\n",
        "print(df)\n"
      ],
      "metadata": {
        "colab": {
          "base_uri": "https://localhost:8080/"
        },
        "id": "V4htPakaP7Md",
        "outputId": "85f9915a-75d8-4256-e547-d5e3c95f0bae"
      },
      "execution_count": 9,
      "outputs": [
        {
          "output_type": "stream",
          "name": "stdout",
          "text": [
            "  Name  Marks Grade\n",
            "0    A     80     B\n",
            "1    B     90     A\n",
            "2    C     75     B\n",
            "3    D     85     A\n"
          ]
        }
      ]
    },
    {
      "cell_type": "markdown",
      "source": [
        "7. Write a program to perform element-wise multiplication of two NumPy arrays?"
      ],
      "metadata": {
        "id": "jUI71yv3RHbT"
      }
    },
    {
      "cell_type": "code",
      "source": [
        "7.\n",
        "import numpy as np\n",
        "\n",
        "# Create two NumPy arrays\n",
        "arr1 = np.array([2, 4, 6, 8])\n",
        "arr2 = np.array([1, 3, 5, 7])\n",
        "\n",
        "# Perform element-wise multiplication\n",
        "result = arr1 * arr2\n",
        "\n",
        "# Display the result\n",
        "print(\"Result of element-wise multiplication:\", result)\n"
      ],
      "metadata": {
        "colab": {
          "base_uri": "https://localhost:8080/"
        },
        "id": "MhOfDp-1RNbZ",
        "outputId": "23f5d552-8495-401c-a7dd-dab784d2fb1e"
      },
      "execution_count": 10,
      "outputs": [
        {
          "output_type": "stream",
          "name": "stdout",
          "text": [
            "Result of element-wise multiplication: [ 2 12 30 56]\n"
          ]
        }
      ]
    },
    {
      "cell_type": "markdown",
      "source": [
        "8. Create a line plot with multiple lines using Matplotlib."
      ],
      "metadata": {
        "id": "1ikI6TlVRquQ"
      }
    },
    {
      "cell_type": "code",
      "source": [
        "8.\n",
        "import matplotlib.pyplot as plt\n",
        "\n",
        "# Sample data\n",
        "x = [1, 2, 3, 4, 5]\n",
        "y1 = [2, 4, 6, 8, 10]\n",
        "y2 = [1, 3, 5, 7, 9]\n",
        "y3 = [2, 3, 4, 5, 6]\n",
        "\n",
        "# Create multiple line plots\n",
        "plt.plot(x, y1, label='Line 1', marker='o')\n",
        "plt.plot(x, y2, label='Line 2', marker='s')\n",
        "plt.plot(x, y3, label='Line 3', marker='^')\n",
        "\n",
        "# Add labels and title\n",
        "plt.xlabel('X-Axis')\n",
        "plt.ylabel('Y-Axis')\n",
        "plt.title('Line Plot with Multiple Lines')\n",
        "\n",
        "# Add legend\n",
        "plt.legend()\n",
        "\n",
        "# Show the plot\n",
        "plt.show()\n"
      ],
      "metadata": {
        "colab": {
          "base_uri": "https://localhost:8080/",
          "height": 472
        },
        "id": "1TKFAh0LRybg",
        "outputId": "91816ce2-1f8f-4c39-9953-47fcfb97e76c"
      },
      "execution_count": 11,
      "outputs": [
        {
          "output_type": "display_data",
          "data": {
            "text/plain": [
              "<Figure size 640x480 with 1 Axes>"
            ],
            "image/png": "[encoded data removed]"
          },
          "metadata": {}
        }
      ]
    },
    {
      "cell_type": "markdown",
      "source": [
        "9. Generate a Pandas DataFrame and filter rows where a column value is greater than a threshold?"
      ],
      "metadata": {
        "id": "vU6tpecHSmii"
      }
    },
    {
      "cell_type": "code",
      "source": [
        "9.\n",
        "import pandas as pd\n",
        "\n",
        "# Create a sample DataFrame\n",
        "data = {\n",
        "    'Name': ['A', 'B', 'C', 'D', 'E'],\n",
        "    'Score': [45, 78, 56, 89, 67]\n",
        "}\n",
        "\n",
        "df = pd.DataFrame(data)\n",
        "\n",
        "# Set a threshold\n",
        "threshold = 60\n",
        "\n",
        "# Filter rows where 'Score' > threshold\n",
        "filtered_df = df[df['Score'] > threshold]\n",
        "\n",
        "# Display the filtered DataFrame\n",
        "print(filtered_df)\n"
      ],
      "metadata": {
        "colab": {
          "base_uri": "https://localhost:8080/"
        },
        "id": "R9xe2aOpSsFP",
        "outputId": "42586c65-2ddd-4684-f076-ecaa66791ade"
      },
      "execution_count": 12,
      "outputs": [
        {
          "output_type": "stream",
          "name": "stdout",
          "text": [
            "  Name  Score\n",
            "1    B     78\n",
            "3    D     89\n",
            "4    E     67\n"
          ]
        }
      ]
    },
    {
      "cell_type": "markdown",
      "source": [
        "10.  Create a histogram using Seaborn to visualize a distribution."
      ],
      "metadata": {
        "id": "XQxSMZy-TCO1"
      }
    },
    {
      "cell_type": "code",
      "source": [
        "10.\n",
        "import seaborn as sns\n",
        "import matplotlib.pyplot as plt\n",
        "import pandas as pd\n",
        "\n",
        "# Create sample data\n",
        "data = pd.DataFrame({\n",
        "    'Marks': [55, 60, 65, 70, 75, 80, 85, 90, 95, 100]\n",
        "})\n",
        "\n",
        "# Create a histogram to visualize distribution\n",
        "sns.histplot(data['Marks'], bins=5, kde=True, color='skyblue')\n",
        "\n",
        "# Add title and labels\n",
        "plt.title('Distribution of Marks')\n",
        "plt.xlabel('Marks')\n",
        "plt.ylabel('Frequency')\n",
        "\n",
        "# Show the plot\n",
        "plt.show()\n"
      ],
      "metadata": {
        "colab": {
          "base_uri": "https://localhost:8080/",
          "height": 472
        },
        "id": "kh-MzxWzTIzZ",
        "outputId": "75b4008c-420e-414b-b0a0-053c29411acc"
      },
      "execution_count": 13,
      "outputs": [
        {
          "output_type": "display_data",
          "data": {
            "text/plain": [
              "<Figure size 640x480 with 1 Axes>"
            ],
            "image/png": "[encoded data removed]"
          },
          "metadata": {}
        }
      ]
    },
    {
      "cell_type": "markdown",
      "source": [
        "11.  Perform matrix multiplication using NumPy?"
      ],
      "metadata": {
        "id": "ESKKNrQNTdPJ"
      }
    },
    {
      "cell_type": "code",
      "source": [
        "11.\n",
        "import numpy as np\n",
        "\n",
        "# Create two matrices\n",
        "A = np.array([[1, 2],\n",
        "              [3, 4]])\n",
        "\n",
        "B = np.array([[5, 6],\n",
        "              [7, 8]])\n",
        "\n",
        "# Perform matrix multiplication\n",
        "result = np.dot(A, B)\n",
        "\n",
        "# Display the result\n",
        "print(\"Matrix Multiplication Result:\\n\", result)\n"
      ],
      "metadata": {
        "colab": {
          "base_uri": "https://localhost:8080/"
        },
        "id": "9l6_ZDf3TiDb",
        "outputId": "7638588a-17c8-48d6-8bb9-60a57aa3f214"
      },
      "execution_count": 14,
      "outputs": [
        {
          "output_type": "stream",
          "name": "stdout",
          "text": [
            "Matrix Multiplication Result:\n",
            " [[19 22]\n",
            " [43 50]]\n"
          ]
        }
      ]
    },
    {
      "cell_type": "markdown",
      "source": [
        "12. Use Pandas to load a CSV file and display its first 5 rows."
      ],
      "metadata": {
        "id": "WrfjiFjITqBm"
      }
    },
    {
      "cell_type": "code",
      "source": [
        "12.\n",
        "import pandas as pd\n",
        "\n",
        "# Create your own sample data\n",
        "data = {\n",
        "    'Name': ['A', 'B', 'C', 'D', 'E'],\n",
        "    'Marks': [85, 90, 75, 88, 92],\n",
        "    'Age': [20, 21, 19, 22, 20]\n",
        "}\n",
        "\n",
        "# Convert data into a DataFrame\n",
        "df = pd.DataFrame(data)\n",
        "\n",
        "# Save it as a CSV file inside Colab\n",
        "df.to_csv('student_marks.csv', index=False)\n",
        "\n",
        "# Now read the same file\n",
        "new_df = pd.read_csv('student_marks.csv')\n",
        "\n",
        "# Display the first 5 rows\n",
        "print(new_df.head())\n"
      ],
      "metadata": {
        "colab": {
          "base_uri": "https://localhost:8080/"
        },
        "id": "jEDgj6PQX0Fd",
        "outputId": "2665ac05-0749-4da2-caa5-fc39fcc37c01"
      },
      "execution_count": 19,
      "outputs": [
        {
          "output_type": "stream",
          "name": "stdout",
          "text": [
            "  Name  Marks  Age\n",
            "0    A     85   20\n",
            "1    B     90   21\n",
            "2    C     75   19\n",
            "3    D     88   22\n",
            "4    E     92   20\n"
          ]
        }
      ]
    },
    {
      "cell_type": "markdown",
      "source": [
        "13. Create a 3D scatter plot using Plotly."
      ],
      "metadata": {
        "id": "SKS8Bt7wX9ng"
      }
    },
    {
      "cell_type": "code",
      "source": [
        "13.\n",
        "# If plotly is not installed in Colab, uncomment and run the next line once:\n",
        "# !pip install plotly\n",
        "\n",
        "import plotly.express as px\n",
        "import pandas as pd\n",
        "import numpy as np\n",
        "\n",
        "# Create sample data\n",
        "np.random.seed(42)\n",
        "df = pd.DataFrame({\n",
        "    'x': np.random.randn(100),\n",
        "    'y': np.random.randn(100) * 1.5 + 1,\n",
        "    'z': np.random.randn(100) * 0.5 - 0.5,\n",
        "    'category': np.random.choice(['A','B','C'], size=100),\n",
        "    'size_val': np.random.randint(5, 30, size=100)\n",
        "})\n",
        "\n",
        "# Create 3D scatter plot\n",
        "fig = px.scatter_3d(\n",
        "    df,\n",
        "    x='x',\n",
        "    y='y',\n",
        "    z='z',\n",
        "    color='category',        # color by category\n",
        "    size='size_val',        # marker size\n",
        "    hover_name='category',\n",
        "    title='3D Scatter Plot (Plotly)',\n",
        "    labels={'x':'X axis','y':'Y axis','z':'Z axis'}\n",
        ")\n",
        "\n",
        "# Improve camera view (optional)\n",
        "fig.update_layout(scene=dict(\n",
        "    xaxis=dict(title='X'),\n",
        "    yaxis=dict(title='Y'),\n",
        "    zaxis=dict(title='Z')\n",
        "))\n",
        "\n",
        "fig.show()\n"
      ],
      "metadata": {
        "colab": {
          "base_uri": "https://localhost:8080/",
          "height": 542
        },
        "id": "-goPVB1uYC9A",
        "outputId": "908cfef3-88ac-46da-e59d-d093bb082b19"
      },
      "execution_count": 20,
      "outputs": [
        {
          "output_type": "display_data",
          "data": {
            "text/html": [
              "<html>\n",
              "<head><meta charset=\"utf-8\" /></head>\n",
              "<body>\n",
              "    <div>            <script src=\"https://cdnjs.cloudflare.com/ajax/libs/mathjax/2.7.5/MathJax.js?config=TeX-AMS-MML_SVG\"></script><script type=\"text/javascript\">if (window.MathJax && window.MathJax.Hub && window.MathJax.Hub.Config) {window.MathJax.Hub.Config({SVG: {font: \"STIX-Web\"}});}</script>                <script type=\"text/javascript\">window.PlotlyConfig = {MathJaxConfig: 'local'};</script>\n",
              "        <script charset=\"utf-8\" src=\"https://cdn.plot.ly/plotly-2.35.2.min.js\"></script>                <div id=\"54d89ae8-3927-48c0-816c-05a1f6050571\" class=\"plotly-graph-div\" style=\"height:525px; width:100%;\"></div>            <script type=\"text/javascript\">                                    window.PLOTLYENV=window.PLOTLYENV || {};                                    if (document.getElementById(\"54d89ae8-3927-48c0-816c-05a1f6050571\")) {                    Plotly.newPlot(                        \"54d89ae8-3927-48c0-816c-05a1f6050571\",                        [{\"hovertemplate\":\"\\u003cb\\u003e%{hovertext}\\u003c\\u002fb\\u003e\\u003cbr\\u003e\\u003cbr\\u003ecategory=A\\u003cbr\\u003eX axis=%{x}\\u003cbr\\u003eY axis=%{y}\\u003cbr\\u003eZ axis=%{z}\\u003cbr\\u003esize_val=%{marker.size}\\u003cextra\\u003e\\u003c\\u002fextra\\u003e\",\"hovertext\":[\"A\",\"A\",\"A\",\"A\",\"A\",\"A\",\"A\",\"A\",\"A\",\"A\",\"A\",\"A\",\"A\",\"A\",\"A\",\"A\",\"A\",\"A\",\"A\",\"A\",\"A\",\"A\",\"A\",\"A\",\"A\",\"A\",\"A\",\"A\",\"A\",\"A\",\"A\",\"A\",\"A\",\"A\",\"A\",\"A\",\"A\",\"A\",\"A\",\"A\",\"A\",\"A\"],\"legendgroup\":\"A\",\"marker\":{\"color\":\"#636efa\",\"size\":[14,11,7,17,12,7,17,21,28,10,10,16,17,25,25,15,9,7,21,18,5,26,26,20,29,15,28,8,8,13,5,20,18,9,19,29,28,22,9,5,26,21],\"sizemode\":\"area\",\"sizeref\":0.0725,\"symbol\":\"circle\"},\"mode\":\"markers\",\"name\":\"A\",\"scene\":\"scene\",\"showlegend\":true,\"x\":[0.4967141530112327,0.6476885381006925,1.5230298564080254,-0.23413695694918055,-0.4694743859349521,0.24196227156603412,-1.913280244657798,-0.5622875292409727,0.3142473325952739,-1.4123037013352915,-0.22577630048653566,0.06752820468792384,-0.5443827245251827,-1.1509935774223028,-0.2916937497932768,-0.6017066122293969,1.8522781845089378,-1.0577109289559004,0.7384665799954104,0.1713682811899705,-0.3011036955892888,-0.7198442083947086,-0.4606387709597875,0.3436182895684614,0.324083969394795,-0.38508228041631654,0.33126343140356396,-0.18565897666381712,-0.07201012158033385,-0.6451197546051243,0.36139560550841393,-2.6197451040897444,0.08704706823817122,0.3571125715117464,1.477894044741516,-0.5182702182736474,0.9154021177020741,0.32875110965968446,0.5132674331133561,-0.7020530938773524,-0.3276621465977682,0.26105527217988933],\"y\":[-1.1230561130756214,0.4859282252098458,-0.20341590383242836,1.6060762852218076,1.3863255860841466,1.0903453149115396,4.694863168727929,1.4523210135004188,-0.753017056429298,2.127899549030161,-0.3640811821921084,3.104191466404149,1.8802856407004054,-0.48580448769603257,0.24478651882570124,-1.3259951465991993,1.102844462209041,1.7103886459527724,1.3411899019061941,2.960714131423642,1.2769507877984563,2.1727343076659658,-0.8554260663171229,1.7829123484253464,1.3757392755188147,1.5196723142454636,-0.786955245803973,2.180626905613678,2.2330902399917347,-0.13060424653623448,-0.33427164443828494,1.4150361989950286,1.0195028378168605,-0.2857363346244237,-0.6063387470916686,1.723708622864778,1.7098564368603173,0.8907566310146908,-1.2722708370287972,1.3211406161953059,-0.868608168067982,1.2305876589182918],\"z\":[-0.32110631982585836,0.041525621587638506,0.02690102601745148,-0.9689125199575614,-0.24247615684697604,-0.022999118253398843,-0.174304374347101,-0.12051538975336629,-0.6184093033700044,-0.4590629303068387,-1.433632596295874,-0.15686990481274327,-0.7359659328947168,-0.4678599904522686,-0.16020112553266208,-0.8651833158585683,-0.3917707052090126,-0.8258001738029086,-0.8962603692163503,-0.5573682207334495,-0.06712240291493926,-0.6672506179204742,-0.737472655580478,0.38272712014054844,-1.1304419771675227,-0.04106902647261196,-0.2780902859268858,-0.5297626780309,0.3162056519658176,-0.43462971135695433,0.22063664453305776,-0.9907543255239755,-0.400470152213265,-0.16893466273947666,0.29300840807267603,-1.1189077494134245,-0.5758925475177916,-0.20584139675771174,-0.8113497599102969,-0.7946823784721058,-0.07519895148948769,-0.3463502395616953],\"type\":\"scatter3d\"},{\"hovertemplate\":\"\\u003cb\\u003e%{hovertext}\\u003c\\u002fb\\u003e\\u003cbr\\u003e\\u003cbr\\u003ecategory=B\\u003cbr\\u003eX axis=%{x}\\u003cbr\\u003eY axis=%{y}\\u003cbr\\u003eZ axis=%{z}\\u003cbr\\u003esize_val=%{marker.size}\\u003cextra\\u003e\\u003c\\u002fextra\\u003e\",\"hovertext\":[\"B\",\"B\",\"B\",\"B\",\"B\",\"B\",\"B\",\"B\",\"B\",\"B\",\"B\",\"B\",\"B\",\"B\",\"B\",\"B\",\"B\",\"B\",\"B\",\"B\",\"B\",\"B\",\"B\",\"B\",\"B\"],\"legendgroup\":\"B\",\"marker\":{\"color\":\"#EF553B\",\"size\":[23,24,5,25,17,19,24,19,16,14,12,16,9,26,21,25,17,17,7,22,23,6,17,5,15],\"sizemode\":\"area\",\"sizeref\":0.0725,\"symbol\":\"circle\"},\"mode\":\"markers\",\"name\":\"B\",\"scene\":\"scene\",\"showlegend\":true,\"x\":[-0.13826430117118466,0.7674347291529088,-0.46572975357025687,1.465648768921554,-1.4247481862134568,0.11092258970986608,-1.2208436499710222,-1.3281860488984305,-0.6769220003059587,0.6116762888408679,0.9312801191161986,-0.3092123758512146,0.812525822394198,1.0035328978920242,0.36163602504763415,1.5380365664659692,1.5646436558140062,0.8219025043752238,-0.29900735046586746,-1.9875689146008928,-0.21967188783751193,-0.8084936028931876,-0.5297602037670388,-0.39210815313215763,0.00511345664246089],\"y\":[0.36903201585196144,1.2618667192477584,0.9602291868261746,2.1865479205645704,-1.1027765941884216,4.285683438714968,3.324901607526309,2.220275826054505,-0.02003708236773627,1.3483805457415055,-0.07152712703955166,1.7107493813676813,2.4450641938664828,3.845189473980921,0.6319178259956942,-0.22371542744815742,1.511727962224966,2.240774873554036,3.1803011157359755,5.080253749884428,1.9385010216475094,0.6648058220112236,-0.2701905771026074,1.259771388776773,1.0873130776689999],\"z\":[-0.2196077368158828,-0.2431070245438956,0.06778282009029946,0.6573292833367543,-1.3063579355948258,0.044475298483683035,-0.1830404888409944,-0.830893232384194,0.5610780985063166,0.016232630275573423,-0.7421170364331257,-0.8538347328093904,-0.6262840756965802,-1.2150706889803162,-0.7200222433484919,-1.2179310755897197,-0.49488346949020645,-0.2689482628683646,-0.8001084385793973,-0.6926567984308801,-0.443241327374376,0.5665166873281333,-0.35950406613248365,-0.3214922570174763,-0.09356894058051995],\"type\":\"scatter3d\"},{\"hovertemplate\":\"\\u003cb\\u003e%{hovertext}\\u003c\\u002fb\\u003e\\u003cbr\\u003e\\u003cbr\\u003ecategory=C\\u003cbr\\u003eX axis=%{x}\\u003cbr\\u003eY axis=%{y}\\u003cbr\\u003eZ axis=%{z}\\u003cbr\\u003esize_val=%{marker.size}\\u003cextra\\u003e\\u003c\\u002fextra\\u003e\",\"hovertext\":[\"C\",\"C\",\"C\",\"C\",\"C\",\"C\",\"C\",\"C\",\"C\",\"C\",\"C\",\"C\",\"C\",\"C\",\"C\",\"C\",\"C\",\"C\",\"C\",\"C\",\"C\",\"C\",\"C\",\"C\",\"C\",\"C\",\"C\",\"C\",\"C\",\"C\",\"C\",\"C\",\"C\"],\"legendgroup\":\"C\",\"marker\":{\"color\":\"#00cc96\",\"size\":[17,22,13,11,29,29,5,20,26,8,23,29,22,13,19,25,7,27,20,10,25,12,12,22,13,24,10,14,27,28,22,19,25],\"sizemode\":\"area\",\"sizeref\":0.0725,\"symbol\":\"circle\"},\"mode\":\"markers\",\"name\":\"C\",\"scene\":\"scene\",\"showlegend\":true,\"x\":[-0.23415337472333597,1.5792128155073915,0.5425600435859647,-0.46341769281246226,-1.7249178325130328,-1.0128311203344238,-0.9080240755212109,0.37569801834567196,-0.600638689918805,-0.013497224737933921,0.822544912103189,0.2088635950047554,-1.9596701238797756,0.19686123586912352,-0.11564828238824053,-1.4785219903674274,1.0571222262189157,-1.763040155362734,1.030999522495951,-0.8392175232226385,0.9755451271223592,-0.47917423784528995,-1.1063349740060282,-1.1962066240806708,1.356240028570823,-0.03582603910995154,0.0917607765355023,-0.5017570435845365,0.09707754934804039,0.9686449905328892,-1.4635149481321186,0.29612027706457605,-0.23458713337514692],\"y\":[0.7580714325009863,3.829278851815795,0.8883311263507492,-1.8781568229485623,0.7114585528283162,0.947932345442135,2.714234221772531,0.15055340559584218,1.1494770476314617,-0.5934555705891573,-0.37913635135070467,-0.17487993850435557,0.5169077256914867,-0.8462964746509329,-1.4112248518418413,1.3898241913726352,-0.9806849196264145,1.4454770098497791,1.439608709948022,3.7986617667171347,1.9848304129507446,-0.4620225053409821,2.737893368511106,-0.2310234775275657,1.6191713904047473,0.8843474358788437,0.6030147501430658,2.071000741138138,0.3302275718994684,2.2845981914852085,1.5779760695932552,-0.32578615430169955,-0.7144554467459345],\"z\":[-1.1888346839785455,-0.2424823663956701,1.4263657453273606,-0.2145547446534165,-0.6576346223201728,-0.8864126072687859,-0.7426817739145517,-1.038872388964653,-0.8576518546299841,-0.4772140800480931,0.5719720446626628,-1.5125712933288036,-0.4067728426152862,-0.07378333260188802,-0.24750636050977143,-1.1001482035278882,-0.826664616286856,-0.29750914451952226,-1.2596849829770067,0.13345557459331137,-0.11268297328533161,-0.9634652357890414,-2.120633670034536,-1.0121938206671448,-1.1238915909824247,0.0815818760774798,-0.46509895750499053,-1.476043899761251,-0.6040611251786376,-0.7465004673294164,-0.8464547976303272,-0.05020006228337465,-0.18518557903819388],\"type\":\"scatter3d\"}],                        {\"template\":{\"data\":{\"histogram2dcontour\":[{\"type\":\"histogram2dcontour\",\"colorbar\":{\"outlinewidth\":0,\"ticks\":\"\"},\"colorscale\":[[0.0,\"#0d0887\"],[0.1111111111111111,\"#46039f\"],[0.2222222222222222,\"#7201a8\"],[0.3333333333333333,\"#9c179e\"],[0.4444444444444444,\"#bd3786\"],[0.5555555555555556,\"#d8576b\"],[0.6666666666666666,\"#ed7953\"],[0.7777777777777778,\"#fb9f3a\"],[0.8888888888888888,\"#fdca26\"],[1.0,\"#f0f921\"]]}],\"choropleth\":[{\"type\":\"choropleth\",\"colorbar\":{\"outlinewidth\":0,\"ticks\":\"\"}}],\"histogram2d\":[{\"type\":\"histogram2d\",\"colorbar\":{\"outlinewidth\":0,\"ticks\":\"\"},\"colorscale\":[[0.0,\"#0d0887\"],[0.1111111111111111,\"#46039f\"],[0.2222222222222222,\"#7201a8\"],[0.3333333333333333,\"#9c179e\"],[0.4444444444444444,\"#bd3786\"],[0.5555555555555556,\"#d8576b\"],[0.6666666666666666,\"#ed7953\"],[0.7777777777777778,\"#fb9f3a\"],[0.8888888888888888,\"#fdca26\"],[1.0,\"#f0f921\"]]}],\"heatmap\":[{\"type\":\"heatmap\",\"colorbar\":{\"outlinewidth\":0,\"ticks\":\"\"},\"colorscale\":[[0.0,\"#0d0887\"],[0.1111111111111111,\"#46039f\"],[0.2222222222222222,\"#7201a8\"],[0.3333333333333333,\"#9c179e\"],[0.4444444444444444,\"#bd3786\"],[0.5555555555555556,\"#d8576b\"],[0.6666666666666666,\"#ed7953\"],[0.7777777777777778,\"#fb9f3a\"],[0.8888888888888888,\"#fdca26\"],[1.0,\"#f0f921\"]]}],\"heatmapgl\":[{\"type\":\"heatmapgl\",\"colorbar\":{\"outlinewidth\":0,\"ticks\":\"\"},\"colorscale\":[[0.0,\"#0d0887\"],[0.1111111111111111,\"#46039f\"],[0.2222222222222222,\"#7201a8\"],[0.3333333333333333,\"#9c179e\"],[0.4444444444444444,\"#bd3786\"],[0.5555555555555556,\"#d8576b\"],[0.6666666666666666,\"#ed7953\"],[0.7777777777777778,\"#fb9f3a\"],[0.8888888888888888,\"#fdca26\"],[1.0,\"#f0f921\"]]}],\"contourcarpet\":[{\"type\":\"contourcarpet\",\"colorbar\":{\"outlinewidth\":0,\"ticks\":\"\"}}],\"contour\":[{\"type\":\"contour\",\"colorbar\":{\"outlinewidth\":0,\"ticks\":\"\"},\"colorscale\":[[0.0,\"#0d0887\"],[0.1111111111111111,\"#46039f\"],[0.2222222222222222,\"#7201a8\"],[0.3333333333333333,\"#9c179e\"],[0.4444444444444444,\"#bd3786\"],[0.5555555555555556,\"#d8576b\"],[0.6666666666666666,\"#ed7953\"],[0.7777777777777778,\"#fb9f3a\"],[0.8888888888888888,\"#fdca26\"],[1.0,\"#f0f921\"]]}],\"surface\":[{\"type\":\"surface\",\"colorbar\":{\"outlinewidth\":0,\"ticks\":\"\"},\"colorscale\":[[0.0,\"#0d0887\"],[0.1111111111111111,\"#46039f\"],[0.2222222222222222,\"#7201a8\"],[0.3333333333333333,\"#9c179e\"],[0.4444444444444444,\"#bd3786\"],[0.5555555555555556,\"#d8576b\"],[0.6666666666666666,\"#ed7953\"],[0.7777777777777778,\"#fb9f3a\"],[0.8888888888888888,\"#fdca26\"],[1.0,\"#f0f921\"]]}],\"mesh3d\":[{\"type\":\"mesh3d\",\"colorbar\":{\"outlinewidth\":0,\"ticks\":\"\"}}],\"scatter\":[{\"fillpattern\":{\"fillmode\":\"overlay\",\"size\":10,\"solidity\":0.2},\"type\":\"scatter\"}],\"parcoords\":[{\"type\":\"parcoords\",\"line\":{\"colorbar\":{\"outlinewidth\":0,\"ticks\":\"\"}}}],\"scatterpolargl\":[{\"type\":\"scatterpolargl\",\"marker\":{\"colorbar\":{\"outlinewidth\":0,\"ticks\":\"\"}}}],\"bar\":[{\"error_x\":{\"color\":\"#2a3f5f\"},\"error_y\":{\"color\":\"#2a3f5f\"},\"marker\":{\"line\":{\"color\":\"#E5ECF6\",\"width\":0.5},\"pattern\":{\"fillmode\":\"overlay\",\"size\":10,\"solidity\":0.2}},\"type\":\"bar\"}],\"scattergeo\":[{\"type\":\"scattergeo\",\"marker\":{\"colorbar\":{\"outlinewidth\":0,\"ticks\":\"\"}}}],\"scatterpolar\":[{\"type\":\"scatterpolar\",\"marker\":{\"colorbar\":{\"outlinewidth\":0,\"ticks\":\"\"}}}],\"histogram\":[{\"marker\":{\"pattern\":{\"fillmode\":\"overlay\",\"size\":10,\"solidity\":0.2}},\"type\":\"histogram\"}],\"scattergl\":[{\"type\":\"scattergl\",\"marker\":{\"colorbar\":{\"outlinewidth\":0,\"ticks\":\"\"}}}],\"scatter3d\":[{\"type\":\"scatter3d\",\"line\":{\"colorbar\":{\"outlinewidth\":0,\"ticks\":\"\"}},\"marker\":{\"colorbar\":{\"outlinewidth\":0,\"ticks\":\"\"}}}],\"scattermapbox\":[{\"type\":\"scattermapbox\",\"marker\":{\"colorbar\":{\"outlinewidth\":0,\"ticks\":\"\"}}}],\"scatterternary\":[{\"type\":\"scatterternary\",\"marker\":{\"colorbar\":{\"outlinewidth\":0,\"ticks\":\"\"}}}],\"scattercarpet\":[{\"type\":\"scattercarpet\",\"marker\":{\"colorbar\":{\"outlinewidth\":0,\"ticks\":\"\"}}}],\"carpet\":[{\"aaxis\":{\"endlinecolor\":\"#2a3f5f\",\"gridcolor\":\"white\",\"linecolor\":\"white\",\"minorgridcolor\":\"white\",\"startlinecolor\":\"#2a3f5f\"},\"baxis\":{\"endlinecolor\":\"#2a3f5f\",\"gridcolor\":\"white\",\"linecolor\":\"white\",\"minorgridcolor\":\"white\",\"startlinecolor\":\"#2a3f5f\"},\"type\":\"carpet\"}],\"table\":[{\"cells\":{\"fill\":{\"color\":\"#EBF0F8\"},\"line\":{\"color\":\"white\"}},\"header\":{\"fill\":{\"color\":\"#C8D4E3\"},\"line\":{\"color\":\"white\"}},\"type\":\"table\"}],\"barpolar\":[{\"marker\":{\"line\":{\"color\":\"#E5ECF6\",\"width\":0.5},\"pattern\":{\"fillmode\":\"overlay\",\"size\":10,\"solidity\":0.2}},\"type\":\"barpolar\"}],\"pie\":[{\"automargin\":true,\"type\":\"pie\"}]},\"layout\":{\"autotypenumbers\":\"strict\",\"colorway\":[\"#636efa\",\"#EF553B\",\"#00cc96\",\"#ab63fa\",\"#FFA15A\",\"#19d3f3\",\"#FF6692\",\"#B6E880\",\"#FF97FF\",\"#FECB52\"],\"font\":{\"color\":\"#2a3f5f\"},\"hovermode\":\"closest\",\"hoverlabel\":{\"align\":\"left\"},\"paper_bgcolor\":\"white\",\"plot_bgcolor\":\"#E5ECF6\",\"polar\":{\"bgcolor\":\"#E5ECF6\",\"angularaxis\":{\"gridcolor\":\"white\",\"linecolor\":\"white\",\"ticks\":\"\"},\"radialaxis\":{\"gridcolor\":\"white\",\"linecolor\":\"white\",\"ticks\":\"\"}},\"ternary\":{\"bgcolor\":\"#E5ECF6\",\"aaxis\":{\"gridcolor\":\"white\",\"linecolor\":\"white\",\"ticks\":\"\"},\"baxis\":{\"gridcolor\":\"white\",\"linecolor\":\"white\",\"ticks\":\"\"},\"caxis\":{\"gridcolor\":\"white\",\"linecolor\":\"white\",\"ticks\":\"\"}},\"coloraxis\":{\"colorbar\":{\"outlinewidth\":0,\"ticks\":\"\"}},\"colorscale\":{\"sequential\":[[0.0,\"#0d0887\"],[0.1111111111111111,\"#46039f\"],[0.2222222222222222,\"#7201a8\"],[0.3333333333333333,\"#9c179e\"],[0.4444444444444444,\"#bd3786\"],[0.5555555555555556,\"#d8576b\"],[0.6666666666666666,\"#ed7953\"],[0.7777777777777778,\"#fb9f3a\"],[0.8888888888888888,\"#fdca26\"],[1.0,\"#f0f921\"]],\"sequentialminus\":[[0.0,\"#0d0887\"],[0.1111111111111111,\"#46039f\"],[0.2222222222222222,\"#7201a8\"],[0.3333333333333333,\"#9c179e\"],[0.4444444444444444,\"#bd3786\"],[0.5555555555555556,\"#d8576b\"],[0.6666666666666666,\"#ed7953\"],[0.7777777777777778,\"#fb9f3a\"],[0.8888888888888888,\"#fdca26\"],[1.0,\"#f0f921\"]],\"diverging\":[[0,\"#8e0152\"],[0.1,\"#c51b7d\"],[0.2,\"#de77ae\"],[0.3,\"#f1b6da\"],[0.4,\"#fde0ef\"],[0.5,\"#f7f7f7\"],[0.6,\"#e6f5d0\"],[0.7,\"#b8e186\"],[0.8,\"#7fbc41\"],[0.9,\"#4d9221\"],[1,\"#276419\"]]},\"xaxis\":{\"gridcolor\":\"white\",\"linecolor\":\"white\",\"ticks\":\"\",\"title\":{\"standoff\":15},\"zerolinecolor\":\"white\",\"automargin\":true,\"zerolinewidth\":2},\"yaxis\":{\"gridcolor\":\"white\",\"linecolor\":\"white\",\"ticks\":\"\",\"title\":{\"standoff\":15},\"zerolinecolor\":\"white\",\"automargin\":true,\"zerolinewidth\":2},\"scene\":{\"xaxis\":{\"backgroundcolor\":\"#E5ECF6\",\"gridcolor\":\"white\",\"linecolor\":\"white\",\"showbackground\":true,\"ticks\":\"\",\"zerolinecolor\":\"white\",\"gridwidth\":2},\"yaxis\":{\"backgroundcolor\":\"#E5ECF6\",\"gridcolor\":\"white\",\"linecolor\":\"white\",\"showbackground\":true,\"ticks\":\"\",\"zerolinecolor\":\"white\",\"gridwidth\":2},\"zaxis\":{\"backgroundcolor\":\"#E5ECF6\",\"gridcolor\":\"white\",\"linecolor\":\"white\",\"showbackground\":true,\"ticks\":\"\",\"zerolinecolor\":\"white\",\"gridwidth\":2}},\"shapedefaults\":{\"line\":{\"color\":\"#2a3f5f\"}},\"annotationdefaults\":{\"arrowcolor\":\"#2a3f5f\",\"arrowhead\":0,\"arrowwidth\":1},\"geo\":{\"bgcolor\":\"white\",\"landcolor\":\"#E5ECF6\",\"subunitcolor\":\"white\",\"showland\":true,\"showlakes\":true,\"lakecolor\":\"white\"},\"title\":{\"x\":0.05},\"mapbox\":{\"style\":\"light\"}}},\"scene\":{\"domain\":{\"x\":[0.0,1.0],\"y\":[0.0,1.0]},\"xaxis\":{\"title\":{\"text\":\"X\"}},\"yaxis\":{\"title\":{\"text\":\"Y\"}},\"zaxis\":{\"title\":{\"text\":\"Z\"}}},\"legend\":{\"title\":{\"text\":\"category\"},\"tracegroupgap\":0,\"itemsizing\":\"constant\"},\"title\":{\"text\":\"3D Scatter Plot (Plotly)\"}},                        {\"responsive\": true}                    ).then(function(){\n",
              "                            \n",
              "var gd = document.getElementById('54d89ae8-3927-48c0-816c-05a1f6050571');\n",
              "var x = new MutationObserver(function (mutations, observer) {{\n",
              "        var display = window.getComputedStyle(gd).display;\n",
              "        if (!display || display === 'none') {{\n",
              "            console.log([gd, 'removed!']);\n",
              "            Plotly.purge(gd);\n",
              "            observer.disconnect();\n",
              "        }}\n",
              "}});\n",
              "\n",
              "// Listen for the removal of the full notebook cells\n",
              "var notebookContainer = gd.closest('#notebook-container');\n",
              "if (notebookContainer) {{\n",
              "    x.observe(notebookContainer, {childList: true});\n",
              "}}\n",
              "\n",
              "// Listen for the clearing of the current output cell\n",
              "var outputEl = gd.closest('.output');\n",
              "if (outputEl) {{\n",
              "    x.observe(outputEl, {childList: true});\n",
              "}}\n",
              "\n",
              "                        })                };                            </script>        </div>\n",
              "</body>\n",
              "</html>"
            ]
          },
          "metadata": {}
        }
      ]
    }
  ]
}